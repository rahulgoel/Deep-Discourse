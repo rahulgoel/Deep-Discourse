{
 "cells": [
  {
   "cell_type": "markdown",
   "metadata": {},
   "source": [
    "You should be in the raw file"
   ]
  },
  {
   "cell_type": "code",
   "execution_count": null,
   "metadata": {
    "collapsed": true
   },
   "outputs": [],
   "source": [
    "cd raw/"
   ]
  },
  {
   "cell_type": "markdown",
   "metadata": {},
   "source": [
    "First merge all the raw file into a single file"
   ]
  },
  {
   "cell_type": "code",
   "execution_count": 6,
   "metadata": {
    "collapsed": false
   },
   "outputs": [],
   "source": [
    "cat * > all"
   ]
  },
  {
   "cell_type": "code",
   "execution_count": 4,
   "metadata": {
    "collapsed": false
   },
   "outputs": [
    {
     "name": "stdout",
     "output_type": "stream",
     "text": [
      "Populating the interactive namespace from numpy and matplotlib\n"
     ]
    }
   ],
   "source": [
    "%pylab inline\n",
    "from scipy.sparse.linalg import svds\n",
    "from scipy.sparse import hstack, diags, csr_matrix\n",
    "from sklearn.preprocessing import normalize\n",
    "import numpy as np\n",
    "import csv\n",
    "#from word2vec import VectorModel\n",
    "from numpy import *"
   ]
  },
  {
   "cell_type": "code",
   "execution_count": 5,
   "metadata": {
    "collapsed": true
   },
   "outputs": [],
   "source": [
    "from nltk.tokenize import word_tokenize"
   ]
  },
  {
   "cell_type": "code",
   "execution_count": 6,
   "metadata": {
    "collapsed": true
   },
   "outputs": [],
   "source": [
    "def read_data(filename):\n",
    "        print \"Opening the file...\"\n",
    "\n",
    "        X_train = []\n",
    "\n",
    "        f = open(filename,'r')\n",
    "        count = 0\n",
    "        for line in f.readlines():\n",
    "            sentence = []\n",
    "            if line==\".start\": continue\n",
    "            line = line.strip()\n",
    "            if not line: continue\n",
    "            try:\n",
    "                sentence = word_tokenize(line)\n",
    "            except:\n",
    "                pass\n",
    "            if(len(sentence) > 2):\n",
    "                count =count+1\n",
    "                X_train.append(array(sentence))\n",
    "            # else:\n",
    "            #      print \"No words\"\n",
    "            #      print sentence\n",
    "\n",
    "        print \"File successfully read\"\n",
    "        print count , \"sentences\"\n",
    "        f.close()\n",
    "        return array(X_train)"
   ]
  },
  {
   "cell_type": "code",
   "execution_count": 7,
   "metadata": {
    "collapsed": false
   },
   "outputs": [
    {
     "name": "stdout",
     "output_type": "stream",
     "text": [
      "Opening the file...\n",
      "File successfully read\n",
      "39276 sentences\n"
     ]
    }
   ],
   "source": [
    "sentences = read_data('all')"
   ]
  },
  {
   "cell_type": "code",
   "execution_count": 8,
   "metadata": {
    "collapsed": false
   },
   "outputs": [],
   "source": [
    "from gensim.models import word2vec"
   ]
  },
  {
   "cell_type": "markdown",
   "metadata": {},
   "source": [
    "Train the model for #numOfTrain times"
   ]
  },
  {
   "cell_type": "code",
   "execution_count": 9,
   "metadata": {
    "collapsed": false
   },
   "outputs": [],
   "source": [
    "numOfTrain=3\n",
    "model = word2vec.Word2Vec(sentences, size=300, window=5, min_count=10, workers=4)\n",
    "for i in range(numOfTrain):\n",
    "    model.train(sentences)\n",
    "model.save_word2vec_format(\"word2vec.bin\",binary=True) #store the model in file"
   ]
  },
  {
   "cell_type": "markdown",
   "metadata": {},
   "source": [
    "Load the file"
   ]
  },
  {
   "cell_type": "code",
   "execution_count": 11,
   "metadata": {
    "collapsed": false
   },
   "outputs": [],
   "source": [
    "model = word2vec.Word2Vec.load_word2vec_format('word2vec.bin', binary=True)"
   ]
  },
  {
   "cell_type": "code",
   "execution_count": 12,
   "metadata": {
    "collapsed": false
   },
   "outputs": [
    {
     "name": "stdout",
     "output_type": "stream",
     "text": [
      "[ 0.0068647   0.08044653  0.1174463  -0.0719706   0.14456163  0.02278188\n",
      " -0.03050896 -0.01351856  0.05862462  0.08343524  0.03831907 -0.0263799\n",
      "  0.09086524 -0.03475542  0.15235397 -0.02608984 -0.01663145 -0.0143785\n",
      " -0.02285872 -0.00375326 -0.04826945  0.03423692 -0.02342058 -0.05800759\n",
      "  0.03641964  0.09511698 -0.06595831  0.00427064 -0.01803584 -0.03985507\n",
      "  0.06455338  0.01869901 -0.0449384  -0.06339023 -0.03131276 -0.07052404\n",
      "  0.09172891 -0.0412273  -0.02530397 -0.07419464 -0.10724305 -0.07926376\n",
      "  0.08318784 -0.0196245   0.06265944  0.02516411 -0.00786894  0.09970494\n",
      "  0.05024362 -0.01487543 -0.12240272  0.03043406  0.06326001  0.05834902\n",
      " -0.03514088  0.05067897  0.04397487 -0.09939598  0.03490593 -0.04905375\n",
      " -0.07991122 -0.03862292 -0.02599583 -0.02226724  0.02528788 -0.03880566\n",
      " -0.0751279   0.09989122 -0.00249708  0.01430068  0.02152291 -0.09370942\n",
      "  0.04141717  0.05466888  0.11165205 -0.02350634 -0.03845087 -0.03087663\n",
      "  0.06453403  0.03445327 -0.0595924   0.01626417  0.02359195  0.03126221\n",
      "  0.02919572  0.03716378 -0.01143718 -0.03971848  0.03392998 -0.01285437\n",
      "  0.0229577  -0.04816856 -0.04704906 -0.00082878  0.04586386  0.04332531\n",
      " -0.07182327  0.00758419  0.03266537 -0.05398693  0.01588427 -0.07005027\n",
      "  0.06349904  0.03068638 -0.01864026 -0.00154986 -0.02800851  0.08075038\n",
      "  0.02861834 -0.01344594 -0.00416212  0.00110362  0.01553152 -0.04069491\n",
      " -0.09757804  0.00355366 -0.01638355  0.1137678   0.06482559  0.01495074\n",
      " -0.01654655  0.04250522  0.02713166 -0.03507505  0.08179412 -0.02864582\n",
      " -0.09999385  0.0849142   0.01989485 -0.05411515 -0.01624413 -0.00127777\n",
      " -0.07628912  0.13555425  0.04542431  0.04190459  0.0300716  -0.02692242\n",
      " -0.01949404 -0.05478558 -0.01853527  0.00958453  0.03233931 -0.00415989\n",
      "  0.04464043 -0.00464473 -0.02867681  0.07871509 -0.07377687  0.0359938\n",
      "  0.03750578 -0.10000536 -0.07952087 -0.06022236  0.02711826 -0.00055653\n",
      "  0.00465343 -0.11908416 -0.00601458  0.04468964 -0.04640776  0.05595051\n",
      "  0.02270286 -0.05650171  0.06373626  0.05270533  0.02445905  0.00056619\n",
      "  0.11405741 -0.04332656 -0.07854039 -0.02963065 -0.02644647 -0.05672428\n",
      " -0.05892034  0.03148726 -0.07080973 -0.02710102  0.02426502  0.09859757\n",
      " -0.09827347  0.0789284   0.0126605  -0.03866782  0.01111554  0.0036632\n",
      "  0.1024947   0.06426591 -0.04796838  0.07163103 -0.02338006 -0.10527415\n",
      " -0.02655886  0.03492775  0.0208791   0.05637166  0.08051244  0.00190424\n",
      "  0.03480601 -0.0639137  -0.02861229  0.00548655  0.01013797 -0.02974557\n",
      "  0.05521987 -0.04149807 -0.02139803  0.11269376 -0.12567474 -0.06809924\n",
      "  0.10015473 -0.06088627 -0.06145566  0.02894111 -0.03295093  0.00357245\n",
      "  0.00241905 -0.0204083  -0.01352057  0.03209455  0.08233046 -0.01239827\n",
      " -0.06674626  0.07793945  0.03858079  0.0142861  -0.02745279  0.07495552\n",
      "  0.00066668  0.00111892 -0.05870751  0.11133154  0.04328152 -0.00463206\n",
      "  0.0267202   0.03325659 -0.02556636  0.11150611 -0.01350055  0.01620642\n",
      "  0.04457925 -0.0675592   0.05150794 -0.12508373  0.0183327   0.02439551\n",
      "  0.05450254  0.00290709 -0.02068609 -0.07280144 -0.03145339 -0.033513\n",
      " -0.10818733 -0.09118254 -0.12625016 -0.05829014  0.02756179  0.06844489\n",
      "  0.02175539 -0.06256953  0.067896    0.00482469  0.13620371 -0.03985063\n",
      " -0.10025562 -0.07789464 -0.00087845  0.01457227 -0.06692423  0.01698979\n",
      "  0.0684521  -0.11512599 -0.01010609 -0.02146387 -0.10503005  0.05767117\n",
      "  0.02654359  0.0373484  -0.08576997 -0.06421059 -0.01994338 -0.05251412\n",
      "  0.02105348 -0.07156005 -0.046721    0.02871204  0.01074608 -0.03546355\n",
      " -0.05978345 -0.09089091 -0.00136506 -0.09846012 -0.00597684 -0.04828137\n",
      "  0.07859959 -0.03638985  0.15541421  0.05315362 -0.02949589 -0.04373615]\n"
     ]
    }
   ],
   "source": [
    "print model['computer']"
   ]
  },
  {
   "cell_type": "code",
   "execution_count": null,
   "metadata": {
    "collapsed": true
   },
   "outputs": [],
   "source": []
  }
 ],
 "metadata": {
  "kernelspec": {
   "display_name": "Python 2",
   "language": "python",
   "name": "python2"
  },
  "language_info": {
   "codemirror_mode": {
    "name": "ipython",
    "version": 2
   },
   "file_extension": ".py",
   "mimetype": "text/x-python",
   "name": "python",
   "nbconvert_exporter": "python",
   "pygments_lexer": "ipython2",
   "version": "2.7.10"
  }
 },
 "nbformat": 4,
 "nbformat_minor": 0
}
