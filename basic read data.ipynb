{
 "cells": [
  {
   "cell_type": "code",
   "execution_count": 1,
   "metadata": {
    "collapsed": false
   },
   "outputs": [
    {
     "name": "stdout",
     "output_type": "stream",
     "text": [
      "The agency has already spent roughly $19 billion selling 34 insolvent S&Ls\n",
      "it is likely to sell or merge 600 by the time the bailout concludes\n",
      "and\n",
      "[u'Expansion.Conjunction']\n",
      "1436\n"
     ]
    }
   ],
   "source": [
    "root=\"./conll16st-en-zh-dev-train_LDC2016E50/conll16st-en-01-12-16-dev\"\n",
    "import json\n",
    "import codecs\n",
    "pdtb_file = codecs.open(root+'/relations.json', encoding='utf8')\n",
    "relations = [json.loads(x) for x in pdtb_file];\n",
    "print relations[10]['Arg1']['RawText']\n",
    "print relations[10]['Arg2']['RawText']\n",
    "print relations[10]['Connective']['RawText']\n",
    "print relations[10]['Sense']\n",
    "print len(relations)"
   ]
  },
  {
   "cell_type": "code",
   "execution_count": null,
   "metadata": {
    "collapsed": true
   },
   "outputs": [],
   "source": []
  }
 ],
 "metadata": {
  "kernelspec": {
   "display_name": "Python 2",
   "language": "python",
   "name": "python2"
  },
  "language_info": {
   "codemirror_mode": {
    "name": "ipython",
    "version": 2
   },
   "file_extension": ".py",
   "mimetype": "text/x-python",
   "name": "python",
   "nbconvert_exporter": "python",
   "pygments_lexer": "ipython2",
   "version": "2.7.6"
  }
 },
 "nbformat": 4,
 "nbformat_minor": 0
}
